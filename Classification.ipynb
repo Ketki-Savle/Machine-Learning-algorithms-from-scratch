{
 "cells": [
  {
   "cell_type": "markdown",
   "metadata": {},
   "source": [
    "# Classification Assignment 2: "
   ]
  },
  {
   "cell_type": "markdown",
   "metadata": {},
   "source": [
    "# Objective and approach:\n",
    "\n",
    "* In this assignment we will learn classification in detail. \n",
    "\n",
    "* The dataset that we will use for implementing classification algorithm is the banking dataset. It is related to drive the       campaign and predict if the client will subscribe to a term deposit or not. For classification problem we will assign binary   values 0 and 1 for classifying if the customer will subscribe or no. \n",
    "\n",
    "* To do so we shall synthesize four algorithms and learn this technique extensively. \n",
    "\n",
    "* Following are the algorithms: \n",
    "\n",
    "    1. Logistic Regression\n",
    "    2. Linear Discriminant Analysis\n",
    "    3. Quadratic Discriminant Analysis\n",
    "    4. Perceptron and Pocket Algorithm.\n",
    "\n",
    "We shall implement them step by step as below."
   ]
  },
  {
   "cell_type": "markdown",
   "metadata": {},
   "source": [
    " # Data: \n",
    " \n",
    "<b>Description</b>\n",
    "\n",
    "The data is related with direct marketing campaigns of a Portuguese banking institution. The marketing campaigns were based on phone calls. Often, more than one contact to the same client was required, in order to access if the product (bank term deposit) would be ('yes') or not ('no') subscribed. \n",
    "\n",
    "\n",
    "<b>There are four datasets: </b>\n",
    "\n",
    "1) bank-additional-full.csv with all examples (41188) and 20 inputs, ordered by date (from May 2008 to November 2010), very close to the data analyzed in [Moro et al., 2014] \n",
    "\n",
    "2) bank-additional.csv with 10% of the examples (4119), randomly selected from 1), and 20 inputs. \n",
    "\n",
    "3) bank-full.csv with all examples and 17 inputs, ordered by date (older version of this dataset with less inputs). \n",
    "\n",
    "4) bank.csv with 10% of the examples and 17 inputs, randomly selected from 3 (older version of this dataset with less inputs). The smallest datasets are provided to test more computationally demanding machine learning algorithms (e.g., SVM). \n",
    "\n",
    "The classification goal is to predict if the client will subscribe (yes/no) a term deposit (variable y).\n",
    "\n",
    "\n",
    "<b>Attribute Information:</b>\n",
    "\n",
    " Input variables:\n",
    "\n",
    "* <u>Bank client data:</u>\n",
    "\n",
    "    1 - age (numeric) \n",
    "    \n",
    "    2 - job : type of job (categorical: 'admin.','blue-collar','entrepreneur','housemaid','management','retired','self-                 employed','services','student','technician','unemployed','unknown') \n",
    "    \n",
    "    3 - marital : marital status (categorical: 'divorced','married','single','unknown'; note: 'divorced' means divorced or               widowed)\n",
    "    \n",
    "    4 - education(categorical:'basic.4y','basic.6y','basic.9y',\n",
    "     'high.school','illiterate','professional.course','university.degree','unknown') \n",
    "     \n",
    "    5 - default: has credit in default? (categorical: 'no','yes','unknown') \n",
    "    \n",
    "    6 - housing: has housing loan? (categorical: 'no','yes','unknown') \n",
    "    \n",
    "    7 - loan: has personal loan? (categorical: 'no','yes','unknown')\n",
    "\n",
    "\n",
    "* <u>Related with the last contact of the current campaign:</u>\n",
    "\n",
    "\n",
    "    8 - contact: contact communication type (categorical: 'cellular','telephone') \n",
    "    \n",
    "    9 - month: last contact month of year (categorical: 'jan', 'feb', 'mar', ..., 'nov', 'dec') \n",
    "    \n",
    "    10 - day_of_week: last contact day of the week (categorical: 'mon','tue','wed','thu','fri') \n",
    "    \n",
    "    11 - duration: last contact duration, in seconds (numeric). Important note: this attribute highly affects the \n",
    "         output target (e.g., if duration=0 then y='no'). Yet, the duration is not known before a call is performed. \n",
    "         Also, after the end of the call y is obviously known. Thus, this input should only be included for benchmark \n",
    "         purposes and should be discarded if the intention is to have a realistic predictive model.\n",
    "\n",
    "\n",
    "* <u>Other attributes: </u>\n",
    "\n",
    "    12 - campaign: number of contacts performed during this campaign and for this client (numeric, includes last contact) \n",
    "\n",
    "    13 - pdays: number of days that passed by after the client was last contacted from a previous campaign (numeric; 999                  means client was not previously contacted) \n",
    "\n",
    "    14 - previous: number of contacts performed before this campaign and for this client (numeric) \n",
    "\n",
    "    15 - poutcome: outcome of the previous marketing campaign (categorical: 'failure','nonexistent','success')\n",
    "\n",
    "\n",
    "* <u>Social and economic context attributes </u>\n",
    "\n",
    "    16 - emp.var.rate: employment variation rate - quarterly indicator (numeric)\n",
    "    \n",
    "    17 - cons.price.idx: consumer price index - monthly indicator (numeric)\n",
    "    \n",
    "    18 - cons.conf.idx: consumer confidence index - monthly indicator (numeric) \n",
    "    \n",
    "    19 - euribor3m: euribor 3 month rate - daily indicator (numeric) \n",
    "    \n",
    "    20 - nr.employed: number of employees - quarterly indicator (numeric)\n",
    "    \n",
    "    \n",
    "\n",
    "* <b>Output variable (desired target): </b>\n",
    "\n",
    "    21 - 1 - has the client subscribed a term deposit? (binary: 'yes','no') NOTE: at this point of time we will not proceed         with the actual calculations for prediction as the aim of this assignment is to only visualize the data. "
   ]
  },
  {
   "cell_type": "markdown",
   "metadata": {},
   "source": [
    "    We will start experimenting this objective with the help of bank dataset that we have chosen. Following are the codes in Python 3. \n",
    "    \n",
    "    At the beginning we will simply import all packages that we require for computation and visualization of the data. After reading the information, we will take a quick look at whats in the CSV file and accordingly we will try to preprocess the data which would be appropriate for further model building. \n",
    "    \n",
    "    "
   ]
  },
  {
   "cell_type": "code",
   "execution_count": 1,
   "metadata": {
    "collapsed": true
   },
   "outputs": [],
   "source": [
    "import pandas as pd\n",
    "import numpy as np\n",
    "import seaborn as sns\n",
    "import matplotlib.pyplot as plt\n",
    "%matplotlib inline\n",
    "\n",
    "df = pd.read_csv(\"bank11.csv\")\n"
   ]
  },
  {
   "cell_type": "markdown",
   "metadata": {},
   "source": [
    "df.set_index(\"deposit\", inplace= True)"
   ]
  },
  {
   "cell_type": "code",
   "execution_count": 2,
   "metadata": {},
   "outputs": [
    {
     "data": {
      "text/html": [
       "<div>\n",
       "<style scoped>\n",
       "    .dataframe tbody tr th:only-of-type {\n",
       "        vertical-align: middle;\n",
       "    }\n",
       "\n",
       "    .dataframe tbody tr th {\n",
       "        vertical-align: top;\n",
       "    }\n",
       "\n",
       "    .dataframe thead th {\n",
       "        text-align: right;\n",
       "    }\n",
       "</style>\n",
       "<table border=\"1\" class=\"dataframe\">\n",
       "  <thead>\n",
       "    <tr style=\"text-align: right;\">\n",
       "      <th></th>\n",
       "      <th>age</th>\n",
       "      <th>job</th>\n",
       "      <th>marital</th>\n",
       "      <th>education</th>\n",
       "      <th>default</th>\n",
       "      <th>balance</th>\n",
       "      <th>housing</th>\n",
       "      <th>loan</th>\n",
       "      <th>contact</th>\n",
       "      <th>day</th>\n",
       "      <th>month</th>\n",
       "      <th>duration</th>\n",
       "      <th>campaign</th>\n",
       "      <th>pdays</th>\n",
       "      <th>previous</th>\n",
       "      <th>poutcome</th>\n",
       "      <th>deposit</th>\n",
       "    </tr>\n",
       "  </thead>\n",
       "  <tbody>\n",
       "    <tr>\n",
       "      <th>0</th>\n",
       "      <td>59</td>\n",
       "      <td>admin.</td>\n",
       "      <td>married</td>\n",
       "      <td>secondary</td>\n",
       "      <td>no</td>\n",
       "      <td>2343</td>\n",
       "      <td>yes</td>\n",
       "      <td>no</td>\n",
       "      <td>unknown</td>\n",
       "      <td>5</td>\n",
       "      <td>may</td>\n",
       "      <td>1042</td>\n",
       "      <td>1</td>\n",
       "      <td>-1</td>\n",
       "      <td>0</td>\n",
       "      <td>unknown</td>\n",
       "      <td>1</td>\n",
       "    </tr>\n",
       "    <tr>\n",
       "      <th>1</th>\n",
       "      <td>56</td>\n",
       "      <td>admin.</td>\n",
       "      <td>married</td>\n",
       "      <td>secondary</td>\n",
       "      <td>no</td>\n",
       "      <td>45</td>\n",
       "      <td>no</td>\n",
       "      <td>no</td>\n",
       "      <td>unknown</td>\n",
       "      <td>5</td>\n",
       "      <td>may</td>\n",
       "      <td>1467</td>\n",
       "      <td>1</td>\n",
       "      <td>-1</td>\n",
       "      <td>0</td>\n",
       "      <td>unknown</td>\n",
       "      <td>1</td>\n",
       "    </tr>\n",
       "    <tr>\n",
       "      <th>2</th>\n",
       "      <td>41</td>\n",
       "      <td>technician</td>\n",
       "      <td>married</td>\n",
       "      <td>secondary</td>\n",
       "      <td>no</td>\n",
       "      <td>1270</td>\n",
       "      <td>yes</td>\n",
       "      <td>no</td>\n",
       "      <td>unknown</td>\n",
       "      <td>5</td>\n",
       "      <td>may</td>\n",
       "      <td>1389</td>\n",
       "      <td>1</td>\n",
       "      <td>-1</td>\n",
       "      <td>0</td>\n",
       "      <td>unknown</td>\n",
       "      <td>1</td>\n",
       "    </tr>\n",
       "    <tr>\n",
       "      <th>3</th>\n",
       "      <td>55</td>\n",
       "      <td>services</td>\n",
       "      <td>married</td>\n",
       "      <td>secondary</td>\n",
       "      <td>no</td>\n",
       "      <td>2476</td>\n",
       "      <td>yes</td>\n",
       "      <td>no</td>\n",
       "      <td>unknown</td>\n",
       "      <td>5</td>\n",
       "      <td>may</td>\n",
       "      <td>579</td>\n",
       "      <td>1</td>\n",
       "      <td>-1</td>\n",
       "      <td>0</td>\n",
       "      <td>unknown</td>\n",
       "      <td>1</td>\n",
       "    </tr>\n",
       "    <tr>\n",
       "      <th>4</th>\n",
       "      <td>54</td>\n",
       "      <td>admin.</td>\n",
       "      <td>married</td>\n",
       "      <td>tertiary</td>\n",
       "      <td>no</td>\n",
       "      <td>184</td>\n",
       "      <td>no</td>\n",
       "      <td>no</td>\n",
       "      <td>unknown</td>\n",
       "      <td>5</td>\n",
       "      <td>may</td>\n",
       "      <td>673</td>\n",
       "      <td>2</td>\n",
       "      <td>-1</td>\n",
       "      <td>0</td>\n",
       "      <td>unknown</td>\n",
       "      <td>1</td>\n",
       "    </tr>\n",
       "  </tbody>\n",
       "</table>\n",
       "</div>"
      ],
      "text/plain": [
       "   age         job  marital  education default  balance housing loan  contact  \\\n",
       "0   59      admin.  married  secondary      no     2343     yes   no  unknown   \n",
       "1   56      admin.  married  secondary      no       45      no   no  unknown   \n",
       "2   41  technician  married  secondary      no     1270     yes   no  unknown   \n",
       "3   55    services  married  secondary      no     2476     yes   no  unknown   \n",
       "4   54      admin.  married   tertiary      no      184      no   no  unknown   \n",
       "\n",
       "   day month  duration  campaign  pdays  previous poutcome  deposit  \n",
       "0    5   may      1042         1     -1         0  unknown        1  \n",
       "1    5   may      1467         1     -1         0  unknown        1  \n",
       "2    5   may      1389         1     -1         0  unknown        1  \n",
       "3    5   may       579         1     -1         0  unknown        1  \n",
       "4    5   may       673         2     -1         0  unknown        1  "
      ]
     },
     "execution_count": 2,
     "metadata": {},
     "output_type": "execute_result"
    }
   ],
   "source": [
    "df.head()"
   ]
  },
  {
   "cell_type": "code",
   "execution_count": 3,
   "metadata": {},
   "outputs": [
    {
     "name": "stdout",
     "output_type": "stream",
     "text": [
      "   age         job  marital  education default  balance housing loan  contact  \\\n",
      "0   59      admin.  married  secondary      no     2343     yes   no  unknown   \n",
      "1   56      admin.  married  secondary      no       45      no   no  unknown   \n",
      "2   41  technician  married  secondary      no     1270     yes   no  unknown   \n",
      "3   55    services  married  secondary      no     2476     yes   no  unknown   \n",
      "4   54      admin.  married   tertiary      no      184      no   no  unknown   \n",
      "\n",
      "   day month  duration  campaign  pdays  previous poutcome  deposit  \n",
      "0    5   may      1042         1     -1         0  unknown        1  \n",
      "1    5   may      1467         1     -1         0  unknown        1  \n",
      "2    5   may      1389         1     -1         0  unknown        1  \n",
      "3    5   may       579         1     -1         0  unknown        1  \n",
      "4    5   may       673         2     -1         0  unknown        1  \n"
     ]
    }
   ],
   "source": [
    "print(df.head())"
   ]
  },
  {
   "cell_type": "markdown",
   "metadata": {},
   "source": [
    "    Here we could observe that we have multiple features and we want to classify the client's information to understand if he/she has subscribed term deposits or no. The deposit entity has binary values, 0 and 1 where 1 means yes and 0 means no. "
   ]
  },
  {
   "cell_type": "code",
   "execution_count": 4,
   "metadata": {},
   "outputs": [
    {
     "name": "stdout",
     "output_type": "stream",
     "text": [
      "                age       balance           day      duration      campaign  \\\n",
      "count  11162.000000  11162.000000  11162.000000  11162.000000  11162.000000   \n",
      "mean      41.231948   1528.538524     15.658036    371.993818      2.508421   \n",
      "std       11.913369   3225.413326      8.420740    347.128386      2.722077   \n",
      "min       18.000000  -6847.000000      1.000000      2.000000      1.000000   \n",
      "25%       32.000000    122.000000      8.000000    138.000000      1.000000   \n",
      "50%       39.000000    550.000000     15.000000    255.000000      2.000000   \n",
      "75%       49.000000   1708.000000     22.000000    496.000000      3.000000   \n",
      "max       95.000000  81204.000000     31.000000   3881.000000     63.000000   \n",
      "\n",
      "              pdays      previous       deposit  \n",
      "count  11162.000000  11162.000000  11162.000000  \n",
      "mean      51.330407      0.832557      0.473840  \n",
      "std      108.758282      2.292007      0.499338  \n",
      "min       -1.000000      0.000000      0.000000  \n",
      "25%       -1.000000      0.000000      0.000000  \n",
      "50%       -1.000000      0.000000      0.000000  \n",
      "75%       20.750000      1.000000      1.000000  \n",
      "max      854.000000     58.000000      1.000000  \n"
     ]
    }
   ],
   "source": [
    "print(df.describe())"
   ]
  },
  {
   "cell_type": "markdown",
   "metadata": {},
   "source": [
    "As we describe the data, we get to understand the mean and standard deviation along with other distributive measures of the data. We certainly need to understand these values for further steps where our aim is to normally distribute the data. In terms of normalization of X dataset too, it will be handy to know what are the values of each feature available in bank dataset. "
   ]
  },
  {
   "cell_type": "markdown",
   "metadata": {},
   "source": [
    "# Visualization\n",
    "\n",
    "We will start plotting features to know their impact on the target variable. In practical world, we may have many features but not all of them are important to classify the outcome. "
   ]
  },
  {
   "cell_type": "code",
   "execution_count": 5,
   "metadata": {},
   "outputs": [
    {
     "data": {
      "image/png": "[encoded data removed]",
      "text/plain": [
       "<matplotlib.figure.Figure at 0x1a895205828>"
      ]
     },
     "metadata": {},
     "output_type": "display_data"
    }
   ],
   "source": [
    "plt.hist((df.duration),bins=100)\n",
    "plt.show()"
   ]
  },
  {
   "cell_type": "code",
   "execution_count": 6,
   "metadata": {},
   "outputs": [
    {
     "data": {
      "image/png": "[encoded data removed]",
      "text/plain": [
       "<matplotlib.figure.Figure at 0x1a8958cd390>"
      ]
     },
     "metadata": {},
     "output_type": "display_data"
    }
   ],
   "source": [
    "plt.hist(df.age,bins=10)\n",
    "plt.show()"
   ]
  },
  {
   "cell_type": "code",
   "execution_count": 7,
   "metadata": {},
   "outputs": [
    {
     "data": {
      "image/png": "[encoded data removed]",
      "text/plain": [
       "<matplotlib.figure.Figure at 0x1a895805780>"
      ]
     },
     "metadata": {},
     "output_type": "display_data"
    }
   ],
   "source": [
    "plt.hist(df.balance,bins=1000)\n",
    "plt.show()"
   ]
  },
  {
   "cell_type": "markdown",
   "metadata": {},
   "source": [
    "<b> Observation of histograms: </b>\n",
    "    \n",
    "    \n",
    "Above, All the Histogram suggest that data is skewed towards left i.e. existence of skewness brings us to a point that we need to sample the data efficiently while classifiying the train_data and test_data !"
   ]
  },
  {
   "cell_type": "code",
   "execution_count": 8,
   "metadata": {},
   "outputs": [
    {
     "data": {
      "image/png": "[encoded data removed]",
      "text/plain": [
       "<matplotlib.figure.Figure at 0x1a896a31da0>"
      ]
     },
     "metadata": {},
     "output_type": "display_data"
    }
   ],
   "source": [
    "fig = plt.figure(1, figsize=(9, 6))\n",
    "ax1 = fig.add_subplot(211)\n",
    "bp1 = ax1.boxplot(df.balance,0,'')\n",
    "ax2 = fig.add_subplot(212)\n",
    "bp2 = ax2.boxplot(df.balance,0,'gD')\n",
    "plt.show()"
   ]
  },
  {
   "cell_type": "code",
   "execution_count": 9,
   "metadata": {},
   "outputs": [
    {
     "data": {
      "image/png": "[encoded data removed]",
      "text/plain": [
       "<matplotlib.figure.Figure at 0x1a8978e79b0>"
      ]
     },
     "metadata": {},
     "output_type": "display_data"
    }
   ],
   "source": [
    "fig = plt.figure(1, figsize=(6, 6))\n",
    "ax = fig.add_subplot(211)\n",
    "bp = ax.boxplot(df.age,0,'')\n",
    "ax = fig.add_subplot(212)\n",
    "bp = ax.boxplot(df.age,0,'gD')\n",
    "plt.show()"
   ]
  },
  {
   "cell_type": "code",
   "execution_count": 10,
   "metadata": {},
   "outputs": [
    {
     "data": {
      "image/png": "[encoded data removed]",
      "text/plain": [
       "<matplotlib.figure.Figure at 0x1a897babb38>"
      ]
     },
     "metadata": {},
     "output_type": "display_data"
    }
   ],
   "source": [
    "fig = plt.figure(1, figsize=(9, 6))\n",
    "ax1 = fig.add_subplot(211)\n",
    "bp1 = ax1.boxplot(df.duration,0,'')\n",
    "ax2 = fig.add_subplot(212)\n",
    "bp2 = ax2.boxplot(df.duration,0,'gD')\n",
    "plt.show()"
   ]
  },
  {
   "cell_type": "markdown",
   "metadata": {},
   "source": [
    "<b> Observation of a box- whisker plot</b>\n",
    "\n",
    "\n",
    "Above boxplot suggest how the data is spread across the dataset Most of the data is lying above the 3rd quantile by multiplication factor of 1.5 i.e. by theortical aspect the data points are outlier for most of the data points.\n"
   ]
  },
  {
   "cell_type": "code",
   "execution_count": 11,
   "metadata": {},
   "outputs": [
    {
     "data": {
      "image/png": "[encoded data removed]",
      "text/plain": [
       "<matplotlib.figure.Figure at 0x1a896a1ddd8>"
      ]
     },
     "metadata": {},
     "output_type": "display_data"
    }
   ],
   "source": [
    "draw_data = pd.crosstab(df.housing, df.deposit)\n",
    "draw_data.div(draw_data.sum(1).astype(float), axis=0).plot(kind='bar', stacked=True, color=['deepskyblue','steelblue'],grid=False, figsize=(15, 5))\n",
    "plt.show()"
   ]
  },
  {
   "cell_type": "code",
   "execution_count": 12,
   "metadata": {},
   "outputs": [
    {
     "data": {
      "image/png": "[encoded data removed]",
      "text/plain": [
       "<matplotlib.figure.Figure at 0x1a896b3ecf8>"
      ]
     },
     "metadata": {},
     "output_type": "display_data"
    }
   ],
   "source": [
    "draw_data = pd.crosstab(df.default, df.deposit)\n",
    "draw_data.div(draw_data.sum(1).astype(float), axis=0).plot(kind='bar', stacked=True, color=['deepskyblue','steelblue'],grid=False, figsize=(15, 5))\n",
    "plt.show()"
   ]
  },
  {
   "cell_type": "code",
   "execution_count": 13,
   "metadata": {},
   "outputs": [
    {
     "data": {
      "image/png": "[encoded data removed]",
      "text/plain": [
       "<matplotlib.figure.Figure at 0x1a896c3dac8>"
      ]
     },
     "metadata": {},
     "output_type": "display_data"
    }
   ],
   "source": [
    "draw_data = pd.crosstab(df.loan, df.deposit)\n",
    "draw_data.div(draw_data.sum(1).astype(float), axis=0).plot(kind='bar', stacked=True, color=['green','steelblue'],grid=False, figsize=(15, 5))\n",
    "plt.show()"
   ]
  },
  {
   "cell_type": "markdown",
   "metadata": {},
   "source": [
    "\n",
    "By looking at the bar graph, we can observe that Feature vs Label the data is wide spread i.e. we cannot predict completely based on feature alone. Hence we will preprocess the data in such a way that all our attributes will be a \"Categorical\" input variables for classifying deposit. \n",
    "\n",
    "Lets visualize more.. "
   ]
  },
  {
   "cell_type": "code",
   "execution_count": 14,
   "metadata": {},
   "outputs": [
    {
     "data": {
      "image/png": "[encoded data removed]",
      "text/plain": [
       "<matplotlib.figure.Figure at 0x1a896b36a58>"
      ]
     },
     "metadata": {},
     "output_type": "display_data"
    }
   ],
   "source": [
    "%matplotlib inline\n",
    "pd.crosstab(df.job,df.deposit).plot(kind='bar')\n",
    "plt.title('Purchase Frequency for Job Title')\n",
    "plt.xlabel('Job')\n",
    "plt.ylabel('Frequency of deposit')\n",
    "plt.savefig('purchase_fre_job')"
   ]
  },
  {
   "cell_type": "markdown",
   "metadata": {},
   "source": [
    "In the bar chart plotted above, we are trying to decide whether job will be a good attribute for moving on with classification. It can be understood that the frequency of purchase of the deposit depends a great deal on the job title. Thus, the job title can be a good predictor of the outcome variable."
   ]
  },
  {
   "cell_type": "code",
   "execution_count": 15,
   "metadata": {},
   "outputs": [
    {
     "data": {
      "image/png": "[encoded data removed]",
      "text/plain": [
       "<matplotlib.figure.Figure at 0x1a896a04d68>"
      ]
     },
     "metadata": {},
     "output_type": "display_data"
    }
   ],
   "source": [
    "table=pd.crosstab(df.marital,df.deposit)\n",
    "table.div(table.sum(1).astype(float), axis=0).plot(kind='bar', stacked=True)\n",
    "plt.title('Stacked Bar Chart of Marital Status vs Purchase')\n",
    "plt.xlabel('Marital Status')\n",
    "plt.ylabel('Proportion of Customers')\n",
    "plt.savefig('mariral_vs_pur_stack')"
   ]
  },
  {
   "cell_type": "markdown",
   "metadata": {},
   "source": [
    "Marital status attribute does not really help us in differentiating much and hence we would drop this attribute while building a model. "
   ]
  },
  {
   "cell_type": "code",
   "execution_count": 16,
   "metadata": {},
   "outputs": [
    {
     "data": {
      "image/png": "[encoded data removed]",
      "text/plain": [
       "<matplotlib.figure.Figure at 0x1a897bf47f0>"
      ]
     },
     "metadata": {},
     "output_type": "display_data"
    }
   ],
   "source": [
    "pd.crosstab(df.month,df.deposit).plot(kind='bar')\n",
    "plt.title('Purchase Frequency for Month')\n",
    "plt.xlabel('Month')\n",
    "plt.ylabel('Frequency of Purchase')\n",
    "plt.savefig('pur_fre_month_bar')"
   ]
  },
  {
   "cell_type": "markdown",
   "metadata": {},
   "source": [
    "Based on the insights of the attributes which do and do not influence the classification we will begin to preprocess the data. \n",
    "Lets drop some of the attributes to simplify our model and read the data to understand what we have next. "
   ]
  },
  {
   "cell_type": "markdown",
   "metadata": {},
   "source": [
    "# Preliminary Observations: \n",
    "\n",
    "These are the highlights from all observations mentioned above: \n",
    "\n",
    "1. Feature vs Label the data is wide spread\n",
    "2. We have chosen job default housing loan contact month campaign for classification of deposite.\n",
    "3. Most of the data is lying above the 3rd quantile by multiplication factor of 1.5 i.e. by theortical aspect the data points are outlier for most of the data points.\n",
    "4. All the Histogram suggest that data is skewed towards left"
   ]
  },
  {
   "cell_type": "code",
   "execution_count": 17,
   "metadata": {},
   "outputs": [
    {
     "data": {
      "text/html": [
       "<div>\n",
       "<style scoped>\n",
       "    .dataframe tbody tr th:only-of-type {\n",
       "        vertical-align: middle;\n",
       "    }\n",
       "\n",
       "    .dataframe tbody tr th {\n",
       "        vertical-align: top;\n",
       "    }\n",
       "\n",
       "    .dataframe thead th {\n",
       "        text-align: right;\n",
       "    }\n",
       "</style>\n",
       "<table border=\"1\" class=\"dataframe\">\n",
       "  <thead>\n",
       "    <tr style=\"text-align: right;\">\n",
       "      <th></th>\n",
       "      <th>job</th>\n",
       "      <th>default</th>\n",
       "      <th>housing</th>\n",
       "      <th>loan</th>\n",
       "      <th>contact</th>\n",
       "      <th>month</th>\n",
       "      <th>campaign</th>\n",
       "    </tr>\n",
       "  </thead>\n",
       "  <tbody>\n",
       "    <tr>\n",
       "      <th>0</th>\n",
       "      <td>admin.</td>\n",
       "      <td>no</td>\n",
       "      <td>yes</td>\n",
       "      <td>no</td>\n",
       "      <td>unknown</td>\n",
       "      <td>may</td>\n",
       "      <td>1</td>\n",
       "    </tr>\n",
       "    <tr>\n",
       "      <th>1</th>\n",
       "      <td>admin.</td>\n",
       "      <td>no</td>\n",
       "      <td>no</td>\n",
       "      <td>no</td>\n",
       "      <td>unknown</td>\n",
       "      <td>may</td>\n",
       "      <td>1</td>\n",
       "    </tr>\n",
       "    <tr>\n",
       "      <th>2</th>\n",
       "      <td>technician</td>\n",
       "      <td>no</td>\n",
       "      <td>yes</td>\n",
       "      <td>no</td>\n",
       "      <td>unknown</td>\n",
       "      <td>may</td>\n",
       "      <td>1</td>\n",
       "    </tr>\n",
       "    <tr>\n",
       "      <th>3</th>\n",
       "      <td>services</td>\n",
       "      <td>no</td>\n",
       "      <td>yes</td>\n",
       "      <td>no</td>\n",
       "      <td>unknown</td>\n",
       "      <td>may</td>\n",
       "      <td>1</td>\n",
       "    </tr>\n",
       "    <tr>\n",
       "      <th>4</th>\n",
       "      <td>admin.</td>\n",
       "      <td>no</td>\n",
       "      <td>no</td>\n",
       "      <td>no</td>\n",
       "      <td>unknown</td>\n",
       "      <td>may</td>\n",
       "      <td>2</td>\n",
       "    </tr>\n",
       "  </tbody>\n",
       "</table>\n",
       "</div>"
      ],
      "text/plain": [
       "          job default housing loan  contact month  campaign\n",
       "0      admin.      no     yes   no  unknown   may         1\n",
       "1      admin.      no      no   no  unknown   may         1\n",
       "2  technician      no     yes   no  unknown   may         1\n",
       "3    services      no     yes   no  unknown   may         1\n",
       "4      admin.      no      no   no  unknown   may         2"
      ]
     },
     "execution_count": 17,
     "metadata": {},
     "output_type": "execute_result"
    }
   ],
   "source": [
    "df = df.drop(['day','poutcome'],axis=1)\n",
    "y=df['deposit']\n",
    "df = df.drop(['deposit','balance','previous','pdays','age','duration','education','marital'],axis=1)\n",
    "df.head()"
   ]
  },
  {
   "cell_type": "markdown",
   "metadata": {},
   "source": [
    "# Preprocessing: "
   ]
  },
  {
   "cell_type": "markdown",
   "metadata": {},
   "source": [
    "We can see that the job column has values in terms of job title and as discussed above yes we do need this attribute.The deafult, loan and house has \"yes\" and \"No\" values. Months are named by their values and campaign shows numerical values. We shall convert all these values in categorical form and compute further. "
   ]
  },
  {
   "cell_type": "markdown",
   "metadata": {},
   "source": [
    "After preprocessing is done, lets split the data into train and test set for further analysis and read the top 5 rows to validate that the changes have taken place correctly. "
   ]
  },
  {
   "cell_type": "code",
   "execution_count": null,
   "metadata": {
    "collapsed": true
   },
   "outputs": [],
   "source": []
  },
  {
   "cell_type": "code",
   "execution_count": 18,
   "metadata": {
    "collapsed": true
   },
   "outputs": [],
   "source": [
    "from sklearn.model_selection import train_test_split\n",
    "\n",
    "# Convert these variables into categorical variables\n",
    "df[\"housing\"] = df[\"housing\"].astype('category').cat.codes\n",
    "df[\"job\"] = df[\"job\"].astype('category').cat.codes\n",
    "df[\"default\"] = df[\"default\"].astype('category').cat.codes\n",
    "df[\"loan\"] = df[\"loan\"].astype('category').cat.codes\n",
    "df[\"contact\"] = df[\"contact\"].astype('category').cat.codes\n",
    "df[\"month\"] = df[\"month\"].astype('category').cat.codes\n",
    "\n",
    "# Create train and test splits\n",
    "\n",
    "X= df\n",
    "\n",
    "X_train, X_test, y_train, y_test = train_test_split(X,y,test_size=0.4, random_state=123, stratify=y)\n",
    "X_train = X_train.values\n",
    "X_test = X_test.values\n",
    "y_train = y_train.values\n",
    "y_test = y_test.values"
   ]
  },
  {
   "cell_type": "markdown",
   "metadata": {},
   "source": [
    "Along with train and test, lets check our target if that shows binary values:"
   ]
  },
  {
   "cell_type": "code",
   "execution_count": 19,
   "metadata": {},
   "outputs": [
    {
     "data": {
      "text/plain": [
       "0    1\n",
       "1    1\n",
       "2    1\n",
       "3    1\n",
       "4    1\n",
       "Name: deposit, dtype: int64"
      ]
     },
     "execution_count": 19,
     "metadata": {},
     "output_type": "execute_result"
    }
   ],
   "source": [
    "y.head()"
   ]
  },
  {
   "cell_type": "code",
   "execution_count": 20,
   "metadata": {},
   "outputs": [
    {
     "name": "stdout",
     "output_type": "stream",
     "text": [
      "<bound method NDFrame.keys of        job  default  housing  loan  contact  month  campaign\n",
      "0        0        0        1     0        2      8         1\n",
      "1        0        0        0     0        2      8         1\n",
      "2        9        0        1     0        2      8         1\n",
      "3        7        0        1     0        2      8         1\n",
      "4        0        0        0     0        2      8         2\n",
      "5        4        0        1     1        2      8         2\n",
      "6        4        0        1     1        2      8         1\n",
      "7        5        0        1     0        2      8         1\n",
      "8        9        0        1     0        2      8         1\n",
      "9        7        0        1     0        2      8         3\n",
      "10       0        0        1     0        2      8         1\n",
      "11       1        0        1     0        2      8         2\n",
      "12       4        0        1     1        2      8         4\n",
      "13       1        0        1     0        2      8         2\n",
      "14       9        0        1     0        2      8         2\n",
      "15       4        0        1     0        2      8         1\n",
      "16       1        0        1     0        2      8         3\n",
      "17       7        0        1     0        2      8         1\n",
      "18       0        0        1     0        2      8         2\n",
      "19       0        0        1     1        2      8         1\n",
      "20       0        0        1     0        2      8         2\n",
      "21       4        0        1     0        2      8         1\n",
      "22       4        0        1     0        2      8         2\n",
      "23       1        0        1     0        2      8         2\n",
      "24      10        0        1     0        2      8         2\n",
      "25       1        0        1     0        2      8         4\n",
      "26       9        0        1     0        2      8         3\n",
      "27       1        0        1     0        2      8         3\n",
      "28       0        0        1     0        2      8         1\n",
      "29       1        0        1     0        2      8         1\n",
      "...    ...      ...      ...   ...      ...    ...       ...\n",
      "11132    1        0        1     1        2      8         1\n",
      "11133    4        0        1     0        0      0         1\n",
      "11134    6        0        0     0        1      9         2\n",
      "11135    7        0        0     0        2      6         1\n",
      "11136    4        0        1     0        0     11         1\n",
      "11137    5        0        0     0        2      8         2\n",
      "11138    9        0        1     0        1      1         6\n",
      "11139    6        0        0     0        2      8         7\n",
      "11140    7        0        1     0        2      8        17\n",
      "11141    1        0        1     0        0      8         2\n",
      "11142    0        0        0     1        0      9         1\n",
      "11143   10        0        1     1        0      5         2\n",
      "11144    5        0        1     0        2      8         1\n",
      "11145    5        0        0     0        0      8         1\n",
      "11146    0        1        0     1        0      3         2\n",
      "11147   10        0        0     0        0      9         4\n",
      "11148    1        0        1     0        2      8         1\n",
      "11149    2        0        0     0        0      9         2\n",
      "11150    4        0        0     0        0      1         3\n",
      "11151    4        0        1     0        2      8         1\n",
      "11152    3        0        1     0        0      5         3\n",
      "11153    0        0        0     0        1      9         1\n",
      "11154    9        0        1     1        0      5         1\n",
      "11155    1        0        1     1        0      9         2\n",
      "11156    1        0        1     0        0      5         5\n",
      "11157    1        0        1     0        0      0         1\n",
      "11158    7        0        0     0        2      6         4\n",
      "11159    9        0        0     0        0      1         2\n",
      "11160    9        0        0     1        0      8         2\n",
      "11161    9        0        0     0        0      5         1\n",
      "\n",
      "[11162 rows x 7 columns]>\n"
     ]
    }
   ],
   "source": [
    "print(df.keys)"
   ]
  },
  {
   "cell_type": "code",
   "execution_count": 21,
   "metadata": {},
   "outputs": [
    {
     "name": "stdout",
     "output_type": "stream",
     "text": [
      "deposit\n",
      "0    5873\n",
      "1    5289\n",
      "dtype: int64\n"
     ]
    }
   ],
   "source": [
    "print(df.groupby(y).size())"
   ]
  },
  {
   "cell_type": "markdown",
   "metadata": {},
   "source": [
    "After our data is ready, lets start computing the algorithms. \n"
   ]
  },
  {
   "cell_type": "markdown",
   "metadata": {},
   "source": [
    "# Method:\n",
    "\n",
    "Lets begin by building a super class. "
   ]
  },
  {
   "cell_type": "code",
   "execution_count": 22,
   "metadata": {
    "collapsed": true
   },
   "outputs": [],
   "source": [
    "import numpy as np\n",
    "import abc\n",
    "from abc import ABC, abstractmethod\n",
    "# Super class for machine learning models \n",
    "\n",
    "class BaseModel(ABC):\n",
    "    \"\"\" Super class for ITCS Machine Learning Class\"\"\"\n",
    "    \n",
    "    @abstractmethod\n",
    "    def train(self, X, T):\n",
    "        pass\n",
    "\n",
    "    @abstractmethod\n",
    "    def use(self, X):\n",
    "        pass\n",
    "\n",
    "    \n",
    "\n",
    "class Classifier(BaseModel):\n",
    "    \"\"\"\n",
    "        Abstract class for classification \n",
    "        \n",
    "        Attributes\n",
    "        ==========\n",
    "        meanX       ndarray\n",
    "                    mean of inputs (from standardization)\n",
    "        stdX        ndarray\n",
    "                    standard deviation of inputs (standardization)\n",
    "    \"\"\"\n",
    "\n",
    "    def __init__(self, ):\n",
    "        self.meanX = None\n",
    "        self.stdX = None\n",
    "\n",
    "    def normalize(self, X):\n",
    "        \"\"\" standardize the input X \"\"\"\n",
    "        \n",
    "        if not isinstance(X, np.ndarray):\n",
    "            X = np.asanyarray(X)\n",
    "\n",
    "        self.meanX = np.mean(X, 0)\n",
    "        self.stdX = np.std(X, 0)\n",
    "\n",
    "        # TODO: Finish this normalization\n",
    "        Xs = (X - self.meanX) / self.stdX\n",
    "        return Xs\n",
    "\n",
    "    def _check_matrix(self, mat, name):\n",
    "        if len(mat.shape) != 2:\n",
    "            raise ValueError(''.join([\"Wrong matrix \", name]))\n",
    "        \n",
    "    # add a basis\n",
    "    def add_ones(self, X):\n",
    "        \"\"\"\n",
    "            add a column basis to X input matrix\n",
    "        \"\"\"\n",
    "        self._check_matrix(X, 'X')\n",
    "        return np.hstack((np.ones((X.shape[0], 1)), X))\n",
    "\n",
    "    ####################################################\n",
    "    #### abstract funcitons ############################\n",
    "    @abc.abstractmethod\n",
    "    def train(self, X, T):\n",
    "        pass\n",
    "    \n",
    "    @abc.abstractmethod\n",
    "    def use(self, X):\n",
    "        pass "
   ]
  },
  {
   "cell_type": "markdown",
   "metadata": {},
   "source": [
    "In the given superclass, we have mainly defined functions that would be a backbone of the module. \n",
    "\n",
    "1. Normalize\n",
    "     \n",
    "2. Check matrix\n",
    " \n",
    "3. Add ones\n",
    "\n",
    " TODO task: \n",
    "    We normalize the values of our data as we know that our algorithms demand data to be in Gaussian/ Normal distribution format. \n",
    "    The formula for normalization is : X - mean/standard deviation.\n",
    "    \n",
    "    Using this formula in class, we have normalized the values of X data."
   ]
  },
  {
   "cell_type": "markdown",
   "metadata": {},
   "source": [
    "# Summary of Classification Models: \n",
    "\n",
    "\n",
    "\n"
   ]
  },
  {
   "attachments": {
    "image.png": {
     "image/png": "[encoded data removed]"
    }
   },
   "cell_type": "markdown",
   "metadata": {},
   "source": [
    "# Logistic regression \n",
    "\n",
    "It is named for the function used at the core of the method, the logistic function.\n",
    "The logistic function, also called the sigmoid function was developed by statisticians to describe\n",
    "properties of population growth in ecology, rising quickly and maxing out at the carrying\n",
    "capacity of the environment.\n",
    "\n",
    "It's an S-shaped curve that can take any real-valued number and\n",
    "map it into a value between 0 and 1, but never exactly at those limits.\n",
    "1/1 + e􀀀value\n",
    "\n",
    "Where e is the base of the natural logarithms (Euler's number or the EXP() function in your\n",
    "spreadsheet) and value is the actual numerical value that you want to transform.\n",
    "\n",
    "Logistic Regression predicts probabilities. \n",
    "\n",
    "Preparing the data for Logistic Regression: \n",
    "\n",
    "<b>Binary Output Variable:</b>\n",
    "\n",
    "This might be obvious as we have already mentioned it, but\n",
    "logistic regression is intended for binary (two-class) classification problems. It will predict\n",
    "the probability of an instance belonging to the default class, which can be snapped into a\n",
    "0 or 1 classification.\n",
    "\n",
    "<b>Remove Noise: </b>\n",
    "\n",
    "Logistic regression assumes no error in the output variable (y), consider\n",
    "removing outliers and possibly misclassified instances from your training data.\n",
    " Gaussian Distribution: Logistic regression is a linear algorithm (with a nonlinear\n",
    "transform on output). It does assume a linear relationship between the input variables\n",
    "with the output. Data transforms of your input variables that better expose this linear\n",
    "relationship can result in a more accurate model. \n",
    "\n",
    "<b>Remove Correlated Inputs: </b>\n",
    "\n",
    "Like linear regression, the model can overfit if you have\n",
    "multiple highly-correlated inputs. Consider calculating the pairwise correlations between\n",
    "all inputs and removing highly correlated inputs.\n",
    "\n",
    "\n",
    "<b>Fail to Converge: </b>\n",
    "\n",
    "It is possible for the expected likelihood estimation process that learns\n",
    "the coeficients to fail to converge. This can happen if there are many highly correlated\n",
    "inputs in your data or the data is very sparse (e.g. lots of zeros in your input data).\n",
    "\n",
    "\n",
    "![image.png](attachment:image.png)"
   ]
  },
  {
   "cell_type": "markdown",
   "metadata": {},
   "source": [
    "# Linear Discriminant Analysis: \n",
    "\n",
    "Logistic regression is a simple and powerful linear classification algorithm. It also has limitations\n",
    "that suggest at the need for alternate linear classification algorithms.\n",
    "\n",
    "<b>Two-Class Problems</b>\n",
    "\n",
    "Logistic regression is intended for two-class or binary classification\n",
    "problems. It can be extended for multiclass classification, but is rarely used for this purpose.\n",
    "\n",
    "\n",
    "<b>Unstable With Well Separated Classes. </b>\n",
    "\n",
    "Logistic regression can become unstable when the classes are well separated.\n",
    " \n",
    "\n",
    "<b>Unstable With Few Examples</b>\n",
    "\n",
    "Logistic regression can become unstable when there\n",
    "are few examples from which to estimate the parameters.\n",
    "\n",
    "\n",
    "Linear discriminant analysis does address each of these points and is the go-to linear method\n",
    "for multiclass classification problems. Even with binary-classification problems, it is a good idea\n",
    "to try both logistic regression and linear discriminant analysis.\n",
    "\n",
    "LDA consists of statistical properties of your data, calculated for each class. For a single input variable (x) this is the mean and the variance of the variable for each class.\n",
    "\n",
    "<b>Input for LDA: </b>\n",
    "\n",
    "\n",
    "* Data is Gaussian, that each variable is is shaped like a bell curve when plotted.\n",
    "\n",
    "* Each attribute has the same variance, that values of each variable vary around the\n",
    "    mean by the same amount on average.\n",
    "    \n",
    "    \n",
    "<b>Prepare the data for LDA: </b>\n",
    "\n",
    "\n",
    "<b>Classification Problems. </b>\n",
    "\n",
    "This might go without saying, but LDA is intended for classification problems where the output variable is categorical. LDA supports both binary and multiclass classification.\n",
    "\n",
    "\n",
    "<b>Gaussian Distribution.</b>\n",
    "\n",
    "The standard implementation of the model assumes a Gaussian distribution of the input variables. Consider reviewing the univariate distributions of each attribute and using transforms to make them more Gaussian-looking (e.g. log and root\n",
    "for exponential distributions and Box-Cox for skewed distributions).\n",
    "\n",
    "\n",
    "<b>Remove Outliers. </b>\n",
    "\n",
    "Consider removing outliers from your data. These can skew the basic statistics used to separate classes in LDA such the mean and the standard deviation.\n",
    "\n",
    "\n",
    "<b>Same Variance. </b>\n",
    "\n",
    "LDA assumes that each input variable has the same variance. It almost always a good idea to standardize your data before using LDA so that it has a mean of 0 and a standard deviation of 1."
   ]
  },
  {
   "cell_type": "markdown",
   "metadata": {},
   "source": [
    "# Quadratic Discriminant Analysis:\n",
    "\n",
    "Thumb rule: \n",
    "\n",
    "Same as LDA but Each class uses its own estimate of variance (or covariance when there are multiple input variables)."
   ]
  },
  {
   "cell_type": "markdown",
   "metadata": {},
   "source": [
    "# Pocket Algorithm: \n",
    "\n",
    "\n",
    "The perceptron learning algorithm does not terminate if the learning set is not linearly separable.  In many real-world cases, however,  we want to find the \"best\" linear separation even when the learning sets are not ideal. The pocket algorithm is a modification of the perceptron rule proposed by S. I. Gallant (1990). It stores the best weight vector so far in a \"pocket\" while continuing to learn.  The weights are actually modified only if a better weight vector is found. "
   ]
  },
  {
   "cell_type": "markdown",
   "metadata": {},
   "source": [
    "# Pocket algorithm: "
   ]
  },
  {
   "cell_type": "code",
   "execution_count": 23,
   "metadata": {
    "collapsed": true
   },
   "outputs": [],
   "source": [
    "from copy import deepcopy as copy \n",
    "class Pocket(Classifier):\n",
    "    \n",
    "    def __init__(self, N, alpha):\n",
    "        Classifier.__init__(self)\n",
    "        self.w=None\n",
    "        self.alpha=alpha\n",
    "        self.wp=None\n",
    "        self.N=N\n",
    "        self.binary=True\n",
    "    \n",
    "        \n",
    "# return 1 if w is better -1 if wp is better        \n",
    "    def compare(self, X, T, w, wp):\n",
    "        y = X @ w\n",
    "        yp = X @ wp\n",
    "        return 1 if np.sum((y - T)**2) <= np.sum((yp - T)**2) else -1\n",
    "\n",
    "#Training\n",
    "    def train(self, X, T):\n",
    "        Xt=self.normalize(X)\n",
    "        X1=self.add_ones(Xt)\n",
    "        N1=X1.shape[1]\n",
    "        N0=X.shape[0]\n",
    "        if np.any(self.wp) == None:\n",
    "            self.w=np.zeros(N1)\n",
    "            self.wp=copy(self.w)\n",
    "        for i in range(self.N):\n",
    "            converged = True\n",
    "            for k in range(N1):\n",
    "                self.w=self.wp+self.alpha*(T[k]-X1[k]@self.wp)*X1[k]/2\n",
    "                ##### additional for pocket algorithm \n",
    "                if self.compare(X1,T,self.w,self.wp) == 1:\n",
    "                    self.wp=copy(self.w)\n",
    "\n",
    "# applying the model to data X\n",
    "    \n",
    "    def use(self, X, threshold=0.5):\n",
    "        Xs=self.normalize(X)\n",
    "        X1=self.add_ones(Xs)\n",
    "        if self.binary:\n",
    "            return np.array([1 if i > threshold else 0 for i in X1@self.wp])\n",
    "        return(X1@self.wp)"
   ]
  },
  {
   "cell_type": "markdown",
   "metadata": {},
   "source": [
    "# Experiment 1 : Pocket algorithm"
   ]
  },
  {
   "cell_type": "code",
   "execution_count": 46,
   "metadata": {},
   "outputs": [
    {
     "data": {
      "text/plain": [
       "[<matplotlib.lines.Line2D at 0x1a8968beba8>]"
      ]
     },
     "execution_count": 46,
     "metadata": {},
     "output_type": "execute_result"
    },
    {
     "data": {
      "image/png": "[encoded data removed]",
      "text/plain": [
       "<matplotlib.figure.Figure at 0x1a896e65c88>"
      ]
     },
     "metadata": {},
     "output_type": "display_data"
    }
   ],
   "source": [
    "poc = Pocket (10, 0.1)\n",
    "poc.train(X_train, y_train)\n",
    "Xt = poc.use(X_test)\n",
    "plt.plot(np.sort(Xt,0))\n",
    "plt.plot(np.sort(y_test,0)) # target"
   ]
  },
  {
   "cell_type": "markdown",
   "metadata": {},
   "source": [
    "# How it works? \n",
    "\n",
    "Lets understand the code with respect to the output: \n",
    "\n",
    "Here we have our dataset X_train which is a training data and y_train which is the training target class. \n",
    "The pocket(10,0.1) refers to the iterations and learning rate that is our alpha which we have passed in the class Pocket. \n",
    "\n",
    "In this class, we have defined a function train which will train to iterate better weights and moving on with the computation. Pocket algorith is superior to perceptron. By all means we are using the data from super class and we would use the normalized values for our training. \n",
    "\n",
    "<b> Output </b> \n",
    "\n",
    "The output shows that there are two plots which is training and testing line. The difference between the two shows the different outcome y for X_train and X_test in our code. \n",
    "\n",
    "The accuracy will be calculated below, seperately, for train and test dataset. "
   ]
  },
  {
   "cell_type": "code",
   "execution_count": 47,
   "metadata": {},
   "outputs": [
    {
     "name": "stdout",
     "output_type": "stream",
     "text": [
      "63.4612513066\n",
      "0.219225945171\n"
     ]
    }
   ],
   "source": [
    "rows = X.shape[0]\n",
    "poc.train(X_train, y_train)\n",
    "p1 =poc.use(X_train)\n",
    "accuracy = (np.sum(p1==y_train)/X_train.shape[0])*100\n",
    "error = 1/rows*np.sum(p1!=y_train)\n",
    "print(accuracy)\n",
    "print(error)\n"
   ]
  },
  {
   "cell_type": "code",
   "execution_count": 48,
   "metadata": {},
   "outputs": [
    {
     "name": "stdout",
     "output_type": "stream",
     "text": [
      "42.1979991041\n",
      "0.146837484322\n"
     ]
    }
   ],
   "source": [
    "poc.train(X_test, y_test)\n",
    "p1=poc.use(X_test)\n",
    "accuracy = (np.sum(p1==y_test)/X_train.shape[0])*100\n",
    "error = 1/rows*np.sum(p1!=y_test)\n",
    "print(accuracy)\n",
    "print(error)"
   ]
  },
  {
   "cell_type": "markdown",
   "metadata": {},
   "source": [
    "<b> Accuracy </b>\n",
    "\n",
    "The above code shows accuracies for training and testing seperately. \n",
    "\n",
    "Accuracy of train dataset: 63.46% and the error is 21%\n",
    "\n",
    "Accuracy of test dataset: 42.19% and the error is 14%"
   ]
  },
  {
   "cell_type": "markdown",
   "metadata": {},
   "source": [
    "# Observations: \n",
    "\n",
    "* Looking at the graph we can analyse that the training data has approximately 2400 sample which belong to class zero that is the customer did not deposit (subscribed) in bank. \n",
    "\n",
    "* The rest of the customers did deposit in bank and they have been classified as class 1 sample data. \n",
    "\n",
    "* Test data shows that 2100 customers did not deposit in bank and the rest of them did so. "
   ]
  },
  {
   "cell_type": "markdown",
   "metadata": {},
   "source": [
    "# Quadratic Discriminant Analysis: "
   ]
  },
  {
   "cell_type": "code",
   "execution_count": 27,
   "metadata": {
    "collapsed": true
   },
   "outputs": [],
   "source": [
    "class QDA(Classifier):\n",
    "    \n",
    "    def __init__(self):\n",
    "        Classifier.__init__(self)\n",
    "        self.cov={}\n",
    "        self.mu={}\n",
    "        self.prior={}\n",
    "        \n",
    "    def QDA(self, X, mu, sigma, prior):\n",
    "        D = X.shape[1]\n",
    "        detSigma = sigma if D == 1 else np.linalg.det(sigma)\n",
    "        if detSigma == 0:\n",
    "            raise np.linalg.LinAlgError('normald(): Singular covariance matrix')\n",
    "        return -1/2*np.log(detSigma)-1/2*np.sum(np.dot((X-mu),np.linalg.inv(sigma))*(X-mu), axis=1)[:np.newaxis]+np.log(prior)\n",
    "      \n",
    "    def train(self, X, T):\n",
    "        self.targetType=list(set(T.flatten()))\n",
    "        N=X.shape[0]\n",
    "        for t in self.targetType:\n",
    "            Xsub=X[np.where(T == t)[0],:]\n",
    "            self.cov[t]=np.cov(Xsub.T)\n",
    "            self.mu[t]=np.mean(Xsub, 0)\n",
    "            self.prior[t]=Xsub.shape[0]/N\n",
    "            \n",
    "    def use(self, X):\n",
    "        probs={}\n",
    "        for t in self.targetType:\n",
    "            probs[t]=self.QDA(X, self.mu[t], self.cov[t], self.prior[t])\n",
    "        target=np.zeros(X.shape[0])\n",
    "        for i in range(X.shape[0]):\n",
    "            target[i]=self.targetType[np.argmax([probs[t][i] for t in self.targetType])]\n",
    "        return target\n",
    "        "
   ]
  },
  {
   "cell_type": "markdown",
   "metadata": {},
   "source": [
    "# Experiment 2: QDA"
   ]
  },
  {
   "cell_type": "code",
   "execution_count": 28,
   "metadata": {},
   "outputs": [
    {
     "data": {
      "text/plain": [
       "[<matplotlib.lines.Line2D at 0x1a895797c88>]"
      ]
     },
     "execution_count": 28,
     "metadata": {},
     "output_type": "execute_result"
    },
    {
     "data": {
      "image/png": "[encoded data removed]",
      "text/plain": [
       "<matplotlib.figure.Figure at 0x1a895797828>"
      ]
     },
     "metadata": {},
     "output_type": "display_data"
    }
   ],
   "source": [
    "qda = QDA ()\n",
    "qda.train(X_train, y_train)\n",
    "Xt = qda.use(X_test)\n",
    "plt.plot(np.sort(Xt,0))\n",
    "plt.plot(np.sort(y_test,0)) # target"
   ]
  },
  {
   "cell_type": "markdown",
   "metadata": {},
   "source": [
    "# How it works?\n",
    "\n",
    "\n",
    "Lets understand the code with respect to the output: \n",
    "\n",
    "Here we have our dataset X_train which is a training data and y_train which is the training target class. The QDA algorithm takes X, mu, sigma, prior as arguments and these are nothing but our dataset, mean, standard deviation of the data. \n",
    " \n",
    "Output \n",
    "\n",
    "The output shows that there are two plots which is training and testing line. The difference between the two shows the different outcome y for X_train and X_test in our code. \n",
    "\n",
    "The accuracy will be calculated below, seperately, for train and test dataset."
   ]
  },
  {
   "cell_type": "code",
   "execution_count": 32,
   "metadata": {},
   "outputs": [
    {
     "name": "stdout",
     "output_type": "stream",
     "text": [
      "63.6553680753\n",
      "0.218061279341\n"
     ]
    }
   ],
   "source": [
    "rows = X.shape[0]\n",
    "qda.train(X_train, y_train)\n",
    "q=qda.use(X_train)\n",
    "accuracy = (np.sum(q==y_train)/X_train.shape[0])*100\n",
    "error = 1/rows*np.sum(q!=y_train)\n",
    "print(accuracy)\n",
    "print(error)"
   ]
  },
  {
   "cell_type": "code",
   "execution_count": 33,
   "metadata": {},
   "outputs": [
    {
     "name": "stdout",
     "output_type": "stream",
     "text": [
      "41.7500373301\n",
      "0.1495251747\n"
     ]
    }
   ],
   "source": [
    "qda.train(X_test, y_test)\n",
    "q=qda.use(X_test)\n",
    "accuracy = (np.sum(q==y_test)/X_train.shape[0])*100\n",
    "error = 1/rows*np.sum(q!=y_test)\n",
    "print(accuracy)\n",
    "print(error)"
   ]
  },
  {
   "cell_type": "markdown",
   "metadata": {},
   "source": [
    " <b> Accuracy </b>\n",
    "\n",
    "The above code shows accuracies for training and testing seperately. \n",
    "\n",
    "Accuracy of train dataset: 63.65% and the error is 21%\n",
    "    \n",
    "   Here we see an interesting trend that the accuracy of pocket and QDA is not too different. Of course on other experiments I have observd that it does differ however on the dataset that we have chosen in this problem shows this interesting behavior. \n",
    "\n",
    "Accuracy of test dataset: 41.75% and the error is 14%"
   ]
  },
  {
   "cell_type": "markdown",
   "metadata": {},
   "source": [
    "# Observations: \n",
    "\n",
    "\n",
    "* Looking at the graph we can analyse that the training data has approximately 2300 sample which belong to class zero that is the customer did not deposit (subscribed) in bank. \n",
    "\n",
    "* The rest of the customers did deposit in bank and they have been classified as class 1 sample data. \n",
    "\n",
    "* Test data shows that approximately only 1800 customers did not deposit in bank and the rest of them did so."
   ]
  },
  {
   "cell_type": "markdown",
   "metadata": {},
   "source": [
    "# Linear Discriminant Analysis: "
   ]
  },
  {
   "cell_type": "code",
   "execution_count": 35,
   "metadata": {
    "collapsed": true
   },
   "outputs": [],
   "source": [
    "class LDA(Classifier):\n",
    "    \n",
    "    def __init__(self):\n",
    "        Classifier.__init__(self)\n",
    "        self.cov=None\n",
    "        self.mu={}\n",
    "        self.prior={}\n",
    "        \n",
    "    def LDA(self, X, mu, sigma, prior):\n",
    "        return np.sum(np.dot(X,np.linalg.inv(sigma))*mu, axis=1)-1/2*np.dot(mu,np.linalg.inv(sigma))@mu+np.log(prior)\n",
    "\n",
    "    def train(self, X, T):\n",
    "        self.targetType=list(set(T.flatten()))\n",
    "        N=X.shape[0]\n",
    "        self.cov=np.cov(X.T)\n",
    "        for t in self.targetType:\n",
    "            Xsub=X[np.where(T == t)[0],:]\n",
    "            self.mu[t]=np.mean(Xsub, 0)\n",
    "            self.prior[t]=Xsub.shape[0]/N\n",
    "            \n",
    "    def use(self, X):\n",
    "        probs={}\n",
    "        for t in self.targetType:\n",
    "            probs[t]=self.LDA(X, self.mu[t], self.cov, self.prior[t])\n",
    "        target=np.zeros(X.shape[0])\n",
    "        for i in range(X.shape[0]):\n",
    "            target[i]=self.targetType[np.argmax([probs[t][i] for t in self.targetType])]\n",
    "        return target"
   ]
  },
  {
   "cell_type": "markdown",
   "metadata": {},
   "source": [
    "# Experiment 3: LDA"
   ]
  },
  {
   "cell_type": "code",
   "execution_count": 36,
   "metadata": {},
   "outputs": [
    {
     "data": {
      "text/plain": [
       "[<matplotlib.lines.Line2D at 0x1a897521588>]"
      ]
     },
     "execution_count": 36,
     "metadata": {},
     "output_type": "execute_result"
    },
    {
     "data": {
      "image/png": "[encoded data removed]",
      "text/plain": [
       "<matplotlib.figure.Figure at 0x1a895855898>"
      ]
     },
     "metadata": {},
     "output_type": "display_data"
    }
   ],
   "source": [
    "lda = LDA ()\n",
    "lda.train(X_train, y_train)\n",
    "Xt = lda.use(X_test)\n",
    "plt.plot(np.sort(Xt,0))\n",
    "plt.plot(np.sort(y_test,0)) # target"
   ]
  },
  {
   "cell_type": "markdown",
   "metadata": {},
   "source": [
    "# How it works?\n",
    "\n",
    "As we have mentioned in description, our data has two class classification. In the LDA we have calculated mean and variance of each class. \n",
    "\n",
    "\n",
    "\n"
   ]
  },
  {
   "cell_type": "code",
   "execution_count": 37,
   "metadata": {},
   "outputs": [
    {
     "name": "stdout",
     "output_type": "stream",
     "text": [
      "63.4911154248\n",
      "0.219046765813\n"
     ]
    }
   ],
   "source": [
    "rows = X.shape[0]\n",
    "lda.train(X_train, y_train)\n",
    "l=lda.use(X_train)\n",
    "accuracy = (np.sum(l==y_train)/X_train.shape[0])*100\n",
    "error = 1/rows*np.sum(l!=y_train)\n",
    "print(accuracy)\n",
    "print(error)"
   ]
  },
  {
   "cell_type": "code",
   "execution_count": 38,
   "metadata": {},
   "outputs": [
    {
     "name": "stdout",
     "output_type": "stream",
     "text": [
      "42.9446020606\n",
      "0.142358000358\n"
     ]
    }
   ],
   "source": [
    "lda.train(X_test, y_test)\n",
    "l=lda.use(X_test)\n",
    "accuracy = (np.sum(l==y_test)/X_train.shape[0])*100\n",
    "error = 1/rows*np.sum(l!=y_test)\n",
    "print(accuracy)\n",
    "print(error)"
   ]
  },
  {
   "cell_type": "markdown",
   "metadata": {},
   "source": [
    " <b> Accuracy </b>\n",
    "\n",
    "The above code shows accuracies for training and testing seperately. \n",
    "\n",
    "Accuracy of train dataset: 63.49% and the error is 21%\n",
    "    \n",
    "Here we see an interesting trend that the accuracy of pocket and QDA is not too different. Of course on other experiments I have observd that it does differ however on the dataset that we have chosen in this problem shows this interesting behavior. \n",
    "\n",
    "Accuracy of test dataset: 42.94% ~ 43% and the error is 14%"
   ]
  },
  {
   "cell_type": "markdown",
   "metadata": {},
   "source": [
    "# Observations: \n",
    "\n",
    "As compared to QDA, our LDA algorithm does show some better classification visually. \n",
    "According to the graph, out of approximately 4800 customers, 2200 customers did not deposit and the rest show success rate. In the train dataset also, 2100 customer has no deposit and the rest went ahead with the same. "
   ]
  },
  {
   "cell_type": "markdown",
   "metadata": {},
   "source": [
    "# Logistic Regression:\n",
    "\n",
    "* In the Logistic Regression which is a Classification machine learning algorith, we have studied that the output of the          Logistic Regression will be a probability. The dependent variable here is a binary variable that contains data coded as 1 for \"yes\" or \"success\" or 0 for \"No\" or \"failure\"."
   ]
  },
  {
   "cell_type": "code",
   "execution_count": 39,
   "metadata": {
    "collapsed": true
   },
   "outputs": [],
   "source": [
    "def OneHot(T):\n",
    "    targetType=list(set(T.flatten()))\n",
    "    oneHotT=np.zeros((T.shape[0], len(targetType)))\n",
    "    for i in range(T.shape[0]):\n",
    "        oneHotT[i,int(T[i])]=1\n",
    "    return oneHotT\n",
    "\n",
    "class LogisticRegression(Classifier):\n",
    "    \n",
    "    def __init__(self, alpha, niter, binary=True):\n",
    "        Classifier.__init__(self)\n",
    "        self.alpha=alpha\n",
    "        self.niter=niter\n",
    "        self.binary=True\n",
    " \n",
    "    def softmax(self, X, w):\n",
    "        return np.exp(X@w-np.max(X@w, axis=1).reshape((-1,1)))/np.sum(np.exp(X@w-np.max(X@w, axis=1).reshape((-1,1))),axis=1)[:,np.newaxis]\n",
    "    \n",
    "    def train(self, X, T, pocket=False):\n",
    "        oneHotT=OneHot(T)\n",
    "        X=self.normalize(X)\n",
    "        X1=self.add_ones(X)\n",
    "        self.w=np.zeros((X1.shape[1], oneHotT.shape[1]))\n",
    "        for step in range(self.niter):           \n",
    "            self.w=self.w+self.alpha*X1.T@(oneHotT-self.softmax(X1,self.w))\n",
    "\n",
    "            \n",
    "    def use(self, X, threshold=0.5):\n",
    "        assert np.any(self.w) != None, \"Weights not learned yet\"\n",
    "        X = (X - self.meanX) / self.stdX\n",
    "        X1=self.add_ones(X)\n",
    "        Y=self.softmax(X1, self.w)\n",
    "        if self.binary:\n",
    "            return np.array([1 if y[1] >= threshold else 0 for y in Y])\n",
    "        return np.argmax(Y, axis=1)\n",
    "    "
   ]
  },
  {
   "cell_type": "markdown",
   "metadata": {},
   "source": [
    "# Experiment 4: Logistic Regression"
   ]
  },
  {
   "cell_type": "code",
   "execution_count": 40,
   "metadata": {},
   "outputs": [
    {
     "data": {
      "text/plain": [
       "[<matplotlib.lines.Line2D at 0x1a897544400>]"
      ]
     },
     "execution_count": 40,
     "metadata": {},
     "output_type": "execute_result"
    },
    {
     "data": {
      "image/png": "[encoded data removed]",
      "text/plain": [
       "<matplotlib.figure.Figure at 0x1a897544278>"
      ]
     },
     "metadata": {},
     "output_type": "display_data"
    }
   ],
   "source": [
    "%matplotlib inline\n",
    "lr = LogisticRegression (0.1, 10)\n",
    "lr.train(X_train, y_train)\n",
    "Xt = lr.use(X_test)\n",
    "plt.plot(np.sort(Xt,0))\n",
    "plt.plot(np.sort(y_test,0)) # target"
   ]
  },
  {
   "cell_type": "markdown",
   "metadata": {},
   "source": [
    "# How it works? \n",
    "\n",
    "In the Logistic Regression class, we have used softmax function. Though the softmax function is well known for multi-class, classification, since it handles the outliers well, we shall use this method in our data. \n",
    "\n",
    "We will pass the arguments of iterations and learning rate in logistic regresion while calling it to run on test and train. After the features that is our X_train is passed through the logistic regression model, the probabilities are calculated for it to belong to either class zero or class one. \n",
    "\n",
    "We have understood the input and output mechanism in the theory explained above. The graph of logstic regression could be plotted in many ways as we have learned in class however, for simple comparison of outputs we will stick to the same style. "
   ]
  },
  {
   "cell_type": "code",
   "execution_count": 41,
   "metadata": {},
   "outputs": [
    {
     "name": "stdout",
     "output_type": "stream",
     "text": [
      "64.4467672092\n",
      "0.213313026339\n"
     ]
    }
   ],
   "source": [
    "rows = X.shape[0]\n",
    "lr.train(X_train, y_train)\n",
    "r=lr.use(X_train)\n",
    "accuracy = (np.sum(r==y_train)/X_train.shape[0])*100\n",
    "error = 1/rows*np.sum(r!=y_train)\n",
    "print(accuracy)\n",
    "print(error)"
   ]
  },
  {
   "cell_type": "code",
   "execution_count": 42,
   "metadata": {},
   "outputs": [
    {
     "name": "stdout",
     "output_type": "stream",
     "text": [
      "43.0939226519\n",
      "0.141462103566\n"
     ]
    }
   ],
   "source": [
    "lr.train(X_test, y_test)\n",
    "r=lr.use(X_test)\n",
    "accuracy = (np.sum(r==y_test)/X_train.shape[0])*100\n",
    "error = 1/rows*np.sum(r!=y_test)\n",
    "print(accuracy)\n",
    "print(error)"
   ]
  },
  {
   "cell_type": "markdown",
   "metadata": {},
   "source": [
    " <b> Accuracy </b>\n",
    "\n",
    "The above code shows accuracies for training and testing seperately. \n",
    "\n",
    "Accuracy of train dataset: 64.44% and the error is 21%\n",
    "    \n",
    "Here we see an interesting trend that the accuracy of pocket and QDA is not too different. Of course on other experiments I have observd that it does differ however on the dataset that we have chosen in this problem shows this interesting behavior. \n",
    "\n",
    "Accuracy of test dataset: 43.09% and the error is 14%"
   ]
  },
  {
   "cell_type": "markdown",
   "metadata": {},
   "source": [
    "# Observations: \n",
    "\n",
    "As similar to above plots in the logistic regression plot also we can see that from train data 2400 samples say no deposit and from test data 1900 samples (approx) say no deposit. Rest of the sample have deposited in bank. "
   ]
  },
  {
   "cell_type": "markdown",
   "metadata": {},
   "source": [
    "# Calculating the precision recall and f1 score for given data: \n",
    "\n",
    "\n"
   ]
  },
  {
   "cell_type": "code",
   "execution_count": 78,
   "metadata": {},
   "outputs": [],
   "source": [
    "y_pred = lr.use(X_test)\n"
   ]
  },
  {
   "cell_type": "code",
   "execution_count": 83,
   "metadata": {},
   "outputs": [
    {
     "name": "stdout",
     "output_type": "stream",
     "text": [
      "[[1509  840]\n",
      " [ 739 1377]]\n"
     ]
    }
   ],
   "source": [
    "from sklearn.metrics import confusion_matrix\n",
    "confusion_matrix = confusion_matrix(y_test, y_pred)\n",
    "print(confusion_matrix)"
   ]
  },
  {
   "cell_type": "code",
   "execution_count": 84,
   "metadata": {},
   "outputs": [
    {
     "name": "stdout",
     "output_type": "stream",
     "text": [
      "             precision    recall  f1-score   support\n",
      "\n",
      "          0       0.67      0.64      0.66      2349\n",
      "          1       0.62      0.65      0.64      2116\n",
      "\n",
      "avg / total       0.65      0.65      0.65      4465\n",
      "\n"
     ]
    }
   ],
   "source": [
    "from sklearn.metrics import classification_report\n",
    "print(classification_report(y_test, y_pred))"
   ]
  },
  {
   "cell_type": "markdown",
   "metadata": {},
   "source": [
    "# Evaluation Metrics: \n",
    "\n",
    "Here we have simple calculated the accuracy of training and testing data for each algorithm namely Pocket, QDA, LDA and Logistic Regression. Comapring all the accuracies of train datasets, the Logistic regression is a clear winner. Though mathematically 64% for train data and 43% for test data is not a big number, as compared to other three algorithm, LR handles this classification the best.  \n",
    "\n",
    "We know that precision is TP / TP+FP where TP is true positive and FP is false positive. \n",
    "\n",
    "The code below shows that precision for our data for class 0 is 67% and for class 1 is 62%\n",
    "Recall is TP/TP+FN which is 64% for class 0 and 65% for class 1. \n",
    "\n",
    "The f1 score is an average of precision and recall. "
   ]
  },
  {
   "cell_type": "markdown",
   "metadata": {},
   "source": [
    "# Classification Model Comparison: \n",
    "\n",
    "\n",
    "* Two of the most widely used statistical methods for analyzing\n",
    "    categorical outcome variables are linear discriminant analysis and logistic\n",
    "    regression. While both are appropriate for the development of linear\n",
    "    classification models, linear discriminant analysis makes more assumptions\n",
    "    about the underlying data. Hence, it is assumed that logistic regression is\n",
    "    the more flexible and more robust method in case of violations of these assumptions\n",
    "\n",
    "* Comparing the algorithms: \n",
    "\n",
    "1. Error: This is one of the strongest point to discriminate between classifiers. In our dataset, Logistic regression has the lowest \n",
    "\n",
    "2. Graphical representation:All the graphs succeed in classifying the data correctly. \n",
    "\n",
    "3. Sample size: As the sample size increases, the LDA coefficient estimations become more accurate. "
   ]
  },
  {
   "cell_type": "markdown",
   "metadata": {},
   "source": [
    "# Conclusion:\n",
    "\n",
    "In this assignment we have learnt how to use Python class to use classification. We have implemented four algorithms. \n",
    "\n",
    "1. Pocket\n",
    "2. QDA \n",
    "3. LDA \n",
    "4. Logistic regression. \n",
    "\n",
    "The simplicity of LDA and Logistic regression is one of the favorite techniques used in business world. We have also learned how using the python class can make further computation simpler. \n",
    "\n",
    "Challenges: \n",
    "\n",
    "Many a times it is best to keep preprocessing simple yet concise to get to the point results. "
   ]
  },
  {
   "cell_type": "markdown",
   "metadata": {},
   "source": [
    "# Reference\n",
    "\n",
    "* <i>https://towardsdatascience.com/building-a-logistic-regression-in-python-step-by-step-becd4d56c9c8\n",
    "\n",
    "* <i>http://www.scipy-lectures.org/advanced/scikit-learn/\n",
    "\n",
    "* <i>https://www.kaggle.com/mayurjain/ml-bank-marketing-solution/notebook\n",
    "\n",
    "* <i>https://github.com/rasbt/python-machine-learning-book/blob/master/code/ch02/ch02.ipynb\n",
    "\n",
    "* <i>https://github.com/rasbt/python-machine-learning-book\n",
    "\n",
    "* <i>Class notes from Classification topic.\n",
    "\n",
    "* <i>Machine Learning Algorith from Scratch by Jason Brownlee\n",
    "\n",
    "* Worked with classmates Youngi Su and Rakesh Harish. \n",
    "\n",
    "\n",
    "\n",
    "\n"
   ]
  }
 ],
 "metadata": {
  "kernelspec": {
   "display_name": "Python 3",
   "language": "python",
   "name": "python3"
  },
  "language_info": {
   "codemirror_mode": {
    "name": "ipython",
    "version": 3
   },
   "file_extension": ".py",
   "mimetype": "text/x-python",
   "name": "python",
   "nbconvert_exporter": "python",
   "pygments_lexer": "ipython3",
   "version": "3.6.1"
  }
 },
 "nbformat": 4,
 "nbformat_minor": 2
}
